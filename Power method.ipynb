{
 "cells": [
  {
   "cell_type": "markdown",
   "metadata": {},
   "source": [
    "POWER METHOD"
   ]
  },
  {
   "cell_type": "code",
   "execution_count": null,
   "metadata": {},
   "outputs": [],
   "source": [
    "\"\"\"\n",
    "Author- Abhay Singh Rawat\n",
    "Roll No.- 19/17026\n",
    "\"\"\"\n",
    "import numpy as np\n",
    "from numpy.linalg import eig , inv, det"
   ]
  },
  {
   "cell_type": "markdown",
   "metadata": {},
   "source": [
    "Maximum Eigenvalues and Corresponding Eigenvector"
   ]
  },
  {
   "cell_type": "code",
   "execution_count": null,
   "metadata": {
    "scrolled": true
   },
   "outputs": [],
   "source": [
    "#since matrix is square\n",
    "n=int(input('rank of matrix'))\n",
    "\n",
    "#input for matrix\n",
    "a=np.zeros((n,n)) #filling all the spaces in matrix as 0\n",
    "\n",
    "print(\"Enter the elements of matrix\")\n",
    "for i in range(n):\n",
    "    for j in range(n):\n",
    "        a[i][j] = float(input('a['+str(i)+']['+str(j)+']=\\t'))\n",
    "\n",
    "u,v= eig(a)    # u has all eigenvalues, v stores all eigenvectors\n",
    "\n",
    "# making initial guess\n",
    "x=np.zeros((n))\n",
    "print(\"Enter initial guess:\")\n",
    "\n",
    "for i in range(n):\n",
    "    x[i] = float(input('x['+str(i)+'] = '))\n",
    "\n",
    "# starting the recurrence\n",
    "\n",
    "tolerance = float(input('Enter tolerance : '))     \n",
    "\n",
    "for step in range(100):\n",
    "    x=np.matmul(a,x)     # Ax\n",
    "    \n",
    "    lam=max(abs(x))      # largest element in x is the eigenvalue\n",
    "    x=x/lam              # eigenvector\n",
    "    \n",
    "    # displaying eigenvalues and eigenvectors\n",
    "    print(\"\\nIn step\\t\", step+1)\n",
    "    print(\"Dominant Eigenvalue = \", lam)\n",
    "    print(\"Corresponding Eigenvector : \")\n",
    "    for i in range(n):\n",
    "        print(x[i])\n",
    "    \n",
    "\n",
    "    exact_lam=max(abs(u))\n",
    "    \n",
    "    error= exact_lam-lam\n",
    "    print('Error = ', error)\n",
    "    if abs(error)<tolerance:\n",
    "        break\n",
    "\n",
    "if abs(error)>tolerance:\n",
    "    print(\"Not convergent in 100 steps\")\n",
    "        "
   ]
  },
  {
   "cell_type": "code",
   "execution_count": null,
   "metadata": {},
   "outputs": [],
   "source": [
    "print('Eigenvalues of A ', u)"
   ]
  },
  {
   "cell_type": "raw",
   "metadata": {},
   "source": [
    "Minimum Eigenvalue and Corresponding eigenvector"
   ]
  },
  {
   "cell_type": "code",
   "execution_count": null,
   "metadata": {},
   "outputs": [],
   "source": [
    "if det(a)==0:\n",
    "    print(\"non-invertible matrix\")\n",
    "else:\n",
    "    print('det(a)',det(a))\n",
    "    a_in = inv(a)\n",
    "    print(inv(a))\n",
    "    u,v= eig(a_in)    # u has all eigenvalues, v stores all eigenvectors\n",
    "\n",
    "    # making initial guess\n",
    "    x=np.zeros((n))\n",
    "    print(\"Enter initial guess:\")\n",
    "\n",
    "    for i in range(n):\n",
    "        x[i] = float(input('x['+str(i)+'] = '))\n",
    "    \n",
    "    # starting the recurrence\n",
    "\n",
    "    tolerance = float(input('Enter tolerance : '))     \n",
    "\n",
    "    for step in range(100):\n",
    "        x=np.matmul(a_in,x)     # Ax\n",
    "        \n",
    "        lam=max(abs(x))      # largest element in x is the eigenvalue\n",
    "        x=x/lam              # eigenvector\n",
    "    \n",
    "        # displaying eigenvalues and eigenvectors\n",
    "        print(\"\\nIn step\\t\", step+1)\n",
    "        print(\"Dominant Eigenvalue for inverse= \", lam)\n",
    "        print(\"Corresponding Eigenvector : \")\n",
    "        for i in range(n):\n",
    "            print(x[i])\n",
    "    \n",
    "        \n",
    "        exact_lam=max(abs(u))\n",
    "    \n",
    "        error= exact_lam-lam\n",
    "        print('Error = ', error)\n",
    "        \n",
    "        if abs(error)<tolerance:\n",
    "            print(\"smallest eigenvector for matrix : \", 1/lam)\n",
    "            print(\"corresponding eigenvector : \")\n",
    "            for i in range(n):\n",
    "                print(x[i])\n",
    "            break\n",
    "        \n",
    "    if abs(error)>tolerance:\n",
    "        print(\"Not convergent in 100 steps\")\n",
    "    "
   ]
  },
  {
   "cell_type": "code",
   "execution_count": null,
   "metadata": {},
   "outputs": [],
   "source": [
    "print('Eigenvalues = ', u)"
   ]
  },
  {
   "cell_type": "code",
   "execution_count": null,
   "metadata": {},
   "outputs": [],
   "source": [
    "print(v)"
   ]
  },
  {
   "cell_type": "code",
   "execution_count": null,
   "metadata": {},
   "outputs": [],
   "source": []
  }
 ],
 "metadata": {
  "kernelspec": {
   "display_name": "Python 3",
   "language": "python",
   "name": "python3"
  },
  "language_info": {
   "codemirror_mode": {
    "name": "ipython",
    "version": 3
   },
   "file_extension": ".py",
   "mimetype": "text/x-python",
   "name": "python",
   "nbconvert_exporter": "python",
   "pygments_lexer": "ipython3",
   "version": "3.8.3"
  }
 },
 "nbformat": 4,
 "nbformat_minor": 4
}
