{
 "cells": [
  {
   "cell_type": "markdown",
   "metadata": {},
   "source": [
    "Abhay Singh Rawat"
   ]
  },
  {
   "cell_type": "markdown",
   "metadata": {},
   "source": [
    "Roll No.- 19/17026"
   ]
  },
  {
   "cell_type": "code",
   "execution_count": 112,
   "metadata": {},
   "outputs": [],
   "source": [
    "import numpy as np\n",
    "from numpy.linalg import eig\n",
    "import sympy as sp"
   ]
  },
  {
   "cell_type": "code",
   "execution_count": 113,
   "metadata": {},
   "outputs": [],
   "source": [
    "def Lege(n):\n",
    "    xdx=np.zeros([n,n])\n",
    "    d2x=np.zeros([n,n])\n",
    "    x2d2x=np.zeros([n,n])\n",
    "    L=np.zeros([n,n])\n",
    "    for i in range(n):\n",
    "        xdx[i,i]=(i)          #xd/dx matrix\n",
    "        if i<(n-2):\n",
    "            d2x[i,i+2]=(i+1)*(i+2)       #d2/dx2 matrix\n",
    "            x2d2x[i+2,i+2]=d2x[i,i+2]    #x^2*d2/dx2 matrix\n",
    "    #print(m2dx)\n",
    "    #print(d2x)\n",
    "    #print(x2d2x)\n",
    "    \n",
    "    L=d2x-x2d2x-2*xdx        #legendre operator\n",
    "    print(\"Hence, our legendre operator will be: \\n\",L)\n",
    "    #finding the polynomials\n",
    "    \n",
    "    e,pol=eig(L)\n",
    "    \"\"\"\n",
    "    for i in range(n):\n",
    "        if i==0 or i==1:\n",
    "            print('the {} polynomial is :'.format(i),pol[:,i])\n",
    "        else:\n",
    "            print('the {} polynomial is :'.format(i),2**(i-2)*1.5*pol[:,i])\n",
    "    \"\"\"\n",
    "    print('\\n')\n",
    "    x= sp.Symbol('x')\n",
    "    for i in range(n):\n",
    "        if i==0 or i==1:\n",
    "            print('The {} polynomial is :'.format(i))\n",
    "            leg=0\n",
    "            for j in range(n):\n",
    "                leg=leg+pol[j,i]*x**j      #summing all the terms\n",
    "            print(leg)\n",
    "        else:\n",
    "            print('The {} polynomial is :'.format(i))\n",
    "            leg=0\n",
    "            for j in range(n):\n",
    "                leg=leg+2**(i-2)*1.5*pol[j,i]*x**j\n",
    "            print(leg)\n",
    "        print('***********')\n",
    "\n"
   ]
  },
  {
   "cell_type": "code",
   "execution_count": 114,
   "metadata": {},
   "outputs": [],
   "source": [
    "def Lag(n):\n",
    "    dx=np.zeros([n,n])\n",
    "    xd2x=np.zeros([n,n])\n",
    "    xdx=np.zeros([n,n])\n",
    "    L=np.zeros([n,n])\n",
    "    for i in range(n):\n",
    "        if i<n-1:\n",
    "            dx[i,i+1]=i+1               #d/dx matrix\n",
    "            xd2x[i,i+1]=(i)*(i+1)        #xd2/dx2 matrix\n",
    "            \n",
    "        xdx[i,i]=(i)          #xd/dx matrix\n",
    "    \n",
    "    #laguerrre operator\n",
    "    L=xd2x+dx-xdx           \n",
    "    print(\"Hence, our laguerre operator will be: \\n\",L)\n",
    "    print('\\n')\n",
    "    \n",
    "    #finding eigenvalue and eigenvector\n",
    "    e,pol=eig(L)\n",
    "    print(\"Laguerre eigenvales: \",e)\n",
    "    x= sp.Symbol('x')\n",
    "    for i in range(n):\n",
    "          \n",
    "        if i==0 or i==1:\n",
    "            print('The {} polynomial is :'.format(i))\n",
    "            lag=0\n",
    "            for j in range(n):\n",
    "                lag=lag+pol[j,i]*x**j      #summing all the terms\n",
    "            print(lag)\n",
    "            \n",
    "        elif i==2 or i==3:\n",
    "            print('The {} polynomial is :'.format(i))\n",
    "            lag=0\n",
    "            for j in range(n):\n",
    "                lag=lag+i*pol[j,i]*x**j      #summing all the terms\n",
    "            print(lag)\n",
    "        else:\n",
    "            print('The {} polynomial is :'.format(i))\n",
    "            lag=0\n",
    "            for j in range(n):\n",
    "                lag=lag+(i+2)*pol[j,i]*x**j\n",
    "            print(lag)\n",
    "        print('***********')\n",
    "\n",
    "          "
   ]
  },
  {
   "cell_type": "code",
   "execution_count": 115,
   "metadata": {},
   "outputs": [
    {
     "name": "stdout",
     "output_type": "stream",
     "text": [
      "No. of legendre polynomials you want: 5\n",
      "Hence, our legendre operator will be: \n",
      " [[  0.   0.   2.   0.   0.]\n",
      " [  0.  -2.   0.   6.   0.]\n",
      " [  0.   0.  -6.   0.  12.]\n",
      " [  0.   0.   0. -12.   0.]\n",
      " [  0.   0.   0.   0. -20.]]\n",
      "\n",
      "\n",
      "The 0 polynomial is :\n",
      "1.00000000000000\n",
      "***********\n",
      "The 1 polynomial is :\n",
      "1.0*x\n",
      "***********\n",
      "The 2 polynomial is :\n",
      "1.42302494707577*x**2 - 0.474341649025257\n",
      "***********\n",
      "The 3 polynomial is :\n",
      "2.57247877713763*x**3 - 1.54348726628258*x\n",
      "***********\n",
      "The 4 polynomial is :\n",
      "4.5459231248636*x**4 - 3.89650553559737*x**2 + 0.389650553559737\n",
      "***********\n",
      "No. of laguerre polynomials you want: 5\n",
      "Hence, our laguerre operator will be: \n",
      " [[ 0.  1.  0.  0.  0.]\n",
      " [ 0. -1.  4.  0.  0.]\n",
      " [ 0.  0. -2.  9.  0.]\n",
      " [ 0.  0.  0. -3. 16.]\n",
      " [ 0.  0.  0.  0. -4.]]\n",
      "\n",
      "\n",
      "Laguerre eigenvales:  [ 0. -1. -2. -3. -4.]\n",
      "The 0 polynomial is :\n",
      "1.00000000000000\n",
      "***********\n",
      "The 1 polynomial is :\n",
      "0.707106781186547*x - 0.707106781186547\n",
      "***********\n",
      "The 2 polynomial is :\n",
      "0.436435780471985*x**2 - 1.74574312188794*x + 0.87287156094397\n",
      "***********\n",
      "The 3 polynomial is :\n",
      "0.142695448246348*x**3 - 1.28425903421713*x**2 + 2.56851806843427*x - 0.856172689478089\n",
      "***********\n",
      "The 4 polynomial is :\n",
      "0.0486136835178023*x**4 - 0.777818936284836*x**3 + 3.50018521328176*x**2 - 4.66691361770902*x + 1.16672840442725\n",
      "***********\n"
     ]
    }
   ],
   "source": [
    "n=int(input(\"No. of legendre polynomials you want: \"))\n",
    "Lege(n)\n",
    "m=int(input(\"No. of laguerre polynomials you want: \"))\n",
    "Lag(m)"
   ]
  },
  {
   "cell_type": "code",
   "execution_count": null,
   "metadata": {},
   "outputs": [],
   "source": []
  }
 ],
 "metadata": {
  "kernelspec": {
   "display_name": "Python 3",
   "language": "python",
   "name": "python3"
  },
  "language_info": {
   "codemirror_mode": {
    "name": "ipython",
    "version": 3
   },
   "file_extension": ".py",
   "mimetype": "text/x-python",
   "name": "python",
   "nbconvert_exporter": "python",
   "pygments_lexer": "ipython3",
   "version": "3.8.3"
  }
 },
 "nbformat": 4,
 "nbformat_minor": 4
}
