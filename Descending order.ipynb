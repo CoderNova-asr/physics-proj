{
 "cells": [
  {
   "cell_type": "markdown",
   "metadata": {},
   "source": [
    "Descending order"
   ]
  },
  {
   "cell_type": "code",
   "execution_count": 2,
   "metadata": {},
   "outputs": [
    {
     "name": "stdout",
     "output_type": "stream",
     "text": [
      "How many numbers: 5\n",
      "Enter numbers\n",
      "1\n",
      "5\n",
      "6\n",
      "4\n",
      "3\n"
     ]
    }
   ],
   "source": [
    "n=int(input('How many numbers: '))\n",
    "A=[]\n",
    "print(\"Enter numbers\")\n",
    "for i in range(n):\n",
    "    a=int(input())\n",
    "    A.append(a)"
   ]
  },
  {
   "cell_type": "code",
   "execution_count": 3,
   "metadata": {},
   "outputs": [
    {
     "name": "stdout",
     "output_type": "stream",
     "text": [
      "[6, 5, 4, 3, 1]\n"
     ]
    }
   ],
   "source": [
    "# to make this into ascending order change </>\n",
    "for i in range(n):\n",
    "    for j in range(n):\n",
    "        if A[i]>A[j]:\n",
    "            b=A[i]\n",
    "            A[i]=A[j]\n",
    "            A[j]=b\n",
    "print(A)"
   ]
  },
  {
   "cell_type": "code",
   "execution_count": 4,
   "metadata": {},
   "outputs": [
    {
     "name": "stdout",
     "output_type": "stream",
     "text": [
      "No. of rows: 2\n",
      "No. of columns: 2\n",
      "A[ 0 , 0 ]\n",
      "4\n",
      "A[ 0 , 1 ]\n",
      "6\n",
      "A[ 1 , 0 ]\n",
      "2\n",
      "A[ 1 , 1 ]\n",
      "45\n"
     ]
    }
   ],
   "source": [
    "#sorting a 2-D matrix into ascending order\n",
    "n=int(input('No. of rows: '))\n",
    "m=int(input('No. of columns: '))\n",
    "import numpy as np\n",
    "A=np.zeros([n,m])\n",
    "for i in range(n):\n",
    "    for j in range(m):\n",
    "        print('A[' , i , ',' , j ,']')\n",
    "        A[i,j]=int(input())"
   ]
  },
  {
   "cell_type": "code",
   "execution_count": 5,
   "metadata": {},
   "outputs": [
    {
     "name": "stdout",
     "output_type": "stream",
     "text": [
      "[[ 4.  6.]\n",
      " [ 2. 45.]]\n"
     ]
    }
   ],
   "source": [
    "print(A)"
   ]
  },
  {
   "cell_type": "code",
   "execution_count": 12,
   "metadata": {},
   "outputs": [
    {
     "name": "stdout",
     "output_type": "stream",
     "text": [
      "[[45.  6.]\n",
      " [ 4.  2.]]\n"
     ]
    }
   ],
   "source": [
    "for i in range(n):\n",
    "    for j in range(m):\n",
    "        for k in range(n):\n",
    "            for l in range(m):\n",
    "                if A[i,j]>A[k,l]:\n",
    "                    b=A[i,j]\n",
    "                    A[i,j]=A[k,l]\n",
    "                    A[k,l]=b\n",
    "print(A)    "
   ]
  },
  {
   "cell_type": "code",
   "execution_count": null,
   "metadata": {},
   "outputs": [],
   "source": []
  }
 ],
 "metadata": {
  "kernelspec": {
   "display_name": "Python 3",
   "language": "python",
   "name": "python3"
  },
  "language_info": {
   "codemirror_mode": {
    "name": "ipython",
    "version": 3
   },
   "file_extension": ".py",
   "mimetype": "text/x-python",
   "name": "python",
   "nbconvert_exporter": "python",
   "pygments_lexer": "ipython3",
   "version": "3.8.3"
  }
 },
 "nbformat": 4,
 "nbformat_minor": 4
}
