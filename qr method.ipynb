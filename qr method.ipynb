{
 "cells": [
  {
   "cell_type": "code",
   "execution_count": 2,
   "metadata": {},
   "outputs": [],
   "source": [
    "import numpy as np\n",
    "from numpy.linalg import qr"
   ]
  },
  {
   "cell_type": "code",
   "execution_count": 3,
   "metadata": {},
   "outputs": [],
   "source": [
    "def qreig(A):\n",
    "    condition = True\n",
    "    i=0\n",
    "    while condition:\n",
    "        q , r = qr(A)\n",
    "        A = np.dot(r,q)   #A[i+1]\n",
    "        i=i+1\n",
    "        if np.allclose(A, np.triu(A))==True:\n",
    "            break\n",
    "       \n",
    "    print(\"No. of iterations :\", i)\n",
    "    print(\"The eigenvalues by QR METHOD are\", np.diag(A))"
   ]
  },
  {
   "cell_type": "code",
   "execution_count": 4,
   "metadata": {},
   "outputs": [
    {
     "name": "stdout",
     "output_type": "stream",
     "text": [
      "matrix given : [[ 1 -2  8]\n",
      " [ 7 -7  6]\n",
      " [ 5  7 -8]]\n",
      "No. of iterations : 142\n",
      "The eigenvalues by QR METHOD are [-13.05115892  -6.76795298   5.8191119 ]\n"
     ]
    }
   ],
   "source": [
    "#matrix input\n",
    "A=np.array([[1,-2,8],[7,-7,6],[5,7,-8]])\n",
    "print('matrix given :', A)\n",
    "qreig(A)"
   ]
  },
  {
   "cell_type": "code",
   "execution_count": 5,
   "metadata": {},
   "outputs": [
    {
     "name": "stdout",
     "output_type": "stream",
     "text": [
      "matrix given : [[ 4 -2  3 -7]\n",
      " [ 1  2  6  8]\n",
      " [ 8  5  1 -5]\n",
      " [-5  8 -5  3]]\n",
      "No. of iterations : 157\n",
      "The eigenvalues by QR METHOD are [ 13.82986627 -10.24553385   8.91674962  -2.50108204]\n"
     ]
    }
   ],
   "source": [
    "B=np.array([[4,-2,3,-7],[1,2,6,8],[8,5,1,-5],[-5,8,-5,3]])\n",
    "print('matrix given :', B)\n",
    "qreig(B)"
   ]
  },
  {
   "cell_type": "code",
   "execution_count": null,
   "metadata": {},
   "outputs": [],
   "source": []
  }
 ],
 "metadata": {
  "kernelspec": {
   "display_name": "Python 3",
   "language": "python",
   "name": "python3"
  },
  "language_info": {
   "codemirror_mode": {
    "name": "ipython",
    "version": 3
   },
   "file_extension": ".py",
   "mimetype": "text/x-python",
   "name": "python",
   "nbconvert_exporter": "python",
   "pygments_lexer": "ipython3",
   "version": "3.8.3"
  }
 },
 "nbformat": 4,
 "nbformat_minor": 4
}
